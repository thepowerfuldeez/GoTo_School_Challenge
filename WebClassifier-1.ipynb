{
 "cells": [
  {
   "cell_type": "markdown",
   "metadata": {},
   "source": [
    "# Метод первый - Явное нахождение название темы в словах\n",
    "###### когда никак не получается найти датасет"
   ]
  },
  {
   "cell_type": "markdown",
   "metadata": {},
   "source": [
    "### Будем парсить страничку, оставляя только слова и глаголы и в них искать слова из данных тематик\n",
    "#### А выводить будем [TF-IDF](https://ru.wikipedia.org/wiki/TF-IDF) значения в процентах"
   ]
  },
  {
   "cell_type": "code",
   "execution_count": 1,
   "metadata": {
    "ExecuteTime": {
     "end_time": "2016-10-22T19:51:18.055164",
     "start_time": "2016-10-22T19:51:18.043852"
    },
    "collapsed": false
   },
   "outputs": [],
   "source": [
    "# данные тематики\n",
    "t = \"\"\"/Наука и образование\n",
    "    /Наука и образование/наука\n",
    "    /Наука и образование/наука/математика\n",
    "    /Наука и образование/наука/физика\n",
    "    /Наука и образование/наука/химия\n",
    "    /Наука и образование/наука/информатика\n",
    "    /Наука и образование/наука/информатика/биоинформатика\n",
    "    /Наука и образование/наука/информатика/анализ данных\n",
    "    /Наука и образование/наука/литература\n",
    "    /Наука и образование/образование\n",
    "    /Наука и образование/образование/школьное\n",
    "    /Наука и образование/образование/высшее\n",
    "    /Наука и образование/образование/дополнительное\n",
    "    /Наука и образование/образование/дополнительное/GoTo\n",
    "    /Политика\n",
    "    /Политика/Внутренняя\n",
    "    /Политика/Внешняя\n",
    "    /Экономика и бизнес\n",
    "    /Экономика и бизнес/Бизнес\n",
    "    /Экономика и бизнес/Бизнес/Стартапы\n",
    "    /Экономика и бизнес/Бизнес/Стартапы/E-Contenta\n",
    "    /Экономика и бизнес/Бизнес/Крупные компании\n",
    "    /Экономика и бизнес/Экономика\n",
    "    /Отдых и развлечения\n",
    "    /Отдых и развлечения/Кино\n",
    "    /Отдых и развлечения/Театр\n",
    "    /Отдых и развлечения/Компьютерные игры\n",
    "    /Здоровье и красота/Фитнес\n",
    "    /Здоровье и красота/Медицина\n",
    "    /Здоровье и красота/Косметология\"\"\".split(\"\\n\")\n",
    "\n",
    "# массив последних тем в иерархии (топики) и словарь, с пом. которого можно восстановить полную структуру\n",
    "topics = [x[1:].split(\"/\")[-1] for x in t]\n",
    "restore = {topics[i]: t[i] for i in range(len(topics))}"
   ]
  },
  {
   "cell_type": "code",
   "execution_count": 2,
   "metadata": {
    "ExecuteTime": {
     "end_time": "2016-10-22T19:51:19.095216",
     "start_time": "2016-10-22T19:51:19.084031"
    },
    "collapsed": false
   },
   "outputs": [
    {
     "data": {
      "text/plain": [
       "['Наука и образование',\n",
       " 'наука',\n",
       " 'математика',\n",
       " 'физика',\n",
       " 'химия',\n",
       " 'информатика',\n",
       " 'биоинформатика',\n",
       " 'анализ данных',\n",
       " 'литература',\n",
       " 'образование',\n",
       " 'школьное',\n",
       " 'высшее',\n",
       " 'дополнительное',\n",
       " 'GoTo',\n",
       " 'Политика',\n",
       " 'Внутренняя',\n",
       " 'Внешняя',\n",
       " 'Экономика и бизнес',\n",
       " 'Бизнес',\n",
       " 'Стартапы',\n",
       " 'E-Contenta',\n",
       " 'Крупные компании',\n",
       " 'Экономика',\n",
       " 'Отдых и развлечения',\n",
       " 'Кино',\n",
       " 'Театр',\n",
       " 'Компьютерные игры',\n",
       " 'Фитнес',\n",
       " 'Медицина',\n",
       " 'Косметология']"
      ]
     },
     "execution_count": 2,
     "metadata": {},
     "output_type": "execute_result"
    }
   ],
   "source": [
    "topics"
   ]
  },
  {
   "cell_type": "code",
   "execution_count": 3,
   "metadata": {
    "ExecuteTime": {
     "end_time": "2016-10-22T19:51:21.277272",
     "start_time": "2016-10-22T19:51:20.062519"
    },
    "collapsed": true
   },
   "outputs": [],
   "source": [
    "import requests\n",
    "import re\n",
    "import nltk\n",
    "from html2text import HTML2Text\n",
    "from nltk.corpus import stopwords\n",
    "from bs4 import BeautifulSoup\n",
    "\n",
    "import pymorphy2"
   ]
  },
  {
   "cell_type": "markdown",
   "metadata": {},
   "source": [
    "### Firstly, we need to download the page we are looking for"
   ]
  },
  {
   "cell_type": "code",
   "execution_count": 4,
   "metadata": {
    "ExecuteTime": {
     "end_time": "2016-10-22T19:51:23.273701",
     "start_time": "2016-10-22T19:51:22.815725"
    },
    "collapsed": true
   },
   "outputs": [],
   "source": [
    "web_url = \"https://ru.wikipedia.org/wiki/%D0%9E%D0%BF%D1%80%D0%B5%D0%B4%D0%B5%D0%BB%D0%B8%D1%82%D0%B5%D0%BB%D1%8C_%D0%92%D0%B0%D0%BD%D0%B4%D0%B5%D1%80%D0%BC%D0%BE%D0%BD%D0%B4%D0%B0\"\n",
    "page = requests.get(web_url)\n",
    "soup = BeautifulSoup(page.content, \"lxml\")"
   ]
  },
  {
   "cell_type": "markdown",
   "metadata": {},
   "source": [
    "### Next step we clear text from punctuation, html tags and apply regular expression"
   ]
  },
  {
   "cell_type": "code",
   "execution_count": 5,
   "metadata": {
    "ExecuteTime": {
     "end_time": "2016-10-22T19:51:36.704233",
     "start_time": "2016-10-22T19:51:36.701019"
    },
    "collapsed": false
   },
   "outputs": [],
   "source": [
    "h = HTML2Text()\n",
    "h.ignore_links = True"
   ]
  },
  {
   "cell_type": "code",
   "execution_count": 6,
   "metadata": {
    "ExecuteTime": {
     "end_time": "2016-10-22T19:51:37.255942",
     "start_time": "2016-10-22T19:51:37.240965"
    },
    "collapsed": false
   },
   "outputs": [],
   "source": [
    "raw_text = h.handle(soup.body.text)"
   ]
  },
  {
   "cell_type": "code",
   "execution_count": 7,
   "metadata": {
    "ExecuteTime": {
     "end_time": "2016-10-22T19:51:37.736944",
     "start_time": "2016-10-22T19:51:37.732694"
    },
    "collapsed": true
   },
   "outputs": [],
   "source": [
    "only_russian_text = re.sub(\"[^а-яА-Я]\", \" \", raw_text).strip()"
   ]
  },
  {
   "cell_type": "markdown",
   "metadata": {},
   "source": [
    "### Now define a function"
   ]
  },
  {
   "cell_type": "code",
   "execution_count": 8,
   "metadata": {
    "ExecuteTime": {
     "end_time": "2016-10-22T19:51:42.315792",
     "start_time": "2016-10-22T19:51:42.303363"
    },
    "collapsed": true
   },
   "outputs": [],
   "source": [
    "def get_nouns_list_from_url(web_url):\n",
    "    # получим текст\n",
    "    page = requests.get(web_url)\n",
    "    soup = BeautifulSoup(page.content, \"lxml\")\n",
    "    h = HTML2Text()\n",
    "    h.ignore_links = True\n",
    "    raw_text = h.handle(soup.body.text)\n",
    "    only_russian_text = re.sub(\"[^а-яА-Я]\", \" \", raw_text).strip()\n",
    "    \n",
    "    # оставим только слова без стоп-слов длины [3, 15] и только существительные и глаголы в нормальной форме\n",
    "    morph = pymorphy2.MorphAnalyzer()\n",
    "    words = only_russian_text.split()\n",
    "    stoplist = stopwords.words('russian')\n",
    "    data = []\n",
    "    for word in words:\n",
    "        if 2 < len(word) < 16 and word not in stoplist:\n",
    "            p = morph.parse(word)[0]\n",
    "            if p.tag.POS == 'NOUN' or \"VERB\":\n",
    "                data.append(str(p.normal_form))\n",
    "    \n",
    "    return data"
   ]
  },
  {
   "cell_type": "code",
   "execution_count": 9,
   "metadata": {
    "ExecuteTime": {
     "end_time": "2016-10-22T19:51:44.768980",
     "start_time": "2016-10-22T19:51:44.216675"
    },
    "collapsed": false
   },
   "outputs": [
    {
     "data": {
      "text/plain": [
       "['определитель',\n",
       " 'вандермонд',\n",
       " 'материал',\n",
       " 'википедия',\n",
       " 'свободный',\n",
       " 'энциклопедия',\n",
       " 'перейти',\n",
       " 'навигация',\n",
       " 'поиск',\n",
       " 'определитель',\n",
       " 'вандермонд',\n",
       " 'называться',\n",
       " 'определитель',\n",
       " 'существовать',\n",
       " 'равно',\n",
       " 'степень',\n",
       " 'иной',\n",
       " 'слово',\n",
       " 'делиться',\n",
       " 'различный',\n",
       " 'многочлен',\n",
       " 'степень',\n",
       " 'значит',\n",
       " 'равный',\n",
       " 'произведение',\n",
       " 'точность',\n",
       " 'константа',\n",
       " 'убедиться',\n",
       " 'раскрыть',\n",
       " 'скобка',\n",
       " 'константа',\n",
       " 'равный',\n",
       " 'единица',\n",
       " 'дать',\n",
       " 'формула',\n",
       " 'показывать',\n",
       " 'определитель',\n",
       " 'вандермонд',\n",
       " 'равный',\n",
       " 'нуль',\n",
       " 'существовать',\n",
       " 'хотя',\n",
       " 'один',\n",
       " 'пара',\n",
       " 'такой',\n",
       " 'определитель',\n",
       " 'вандермонд',\n",
       " 'иметь',\n",
       " 'многочисленный',\n",
       " 'применение',\n",
       " 'разный',\n",
       " 'область',\n",
       " 'математика',\n",
       " 'например',\n",
       " 'решение',\n",
       " 'задача',\n",
       " 'интерполяция',\n",
       " 'многочлен',\n",
       " 'задача',\n",
       " 'нахождение',\n",
       " 'многочлен',\n",
       " 'степень',\n",
       " 'график',\n",
       " 'который',\n",
       " 'проходить',\n",
       " 'задать',\n",
       " 'точка',\n",
       " 'плоскость',\n",
       " 'абсцисса',\n",
       " 'определитель',\n",
       " 'вандермонд',\n",
       " 'возникать',\n",
       " 'определитель',\n",
       " 'система',\n",
       " 'линейный',\n",
       " 'уравнение',\n",
       " 'который',\n",
       " 'находиться',\n",
       " 'неизвестный',\n",
       " 'коэффициент',\n",
       " 'искомое',\n",
       " 'многочлен',\n",
       " 'матрица',\n",
       " 'вандермонд',\n",
       " 'представлять',\n",
       " 'себя',\n",
       " 'частный',\n",
       " 'случай',\n",
       " 'альтернативный',\n",
       " 'матрица',\n",
       " 'который',\n",
       " 'если',\n",
       " 'первообразный',\n",
       " 'корень',\n",
       " 'степень',\n",
       " 'единица',\n",
       " 'матрица',\n",
       " 'вандермонд',\n",
       " 'элемент',\n",
       " 'обратный',\n",
       " 'матрица',\n",
       " 'точность',\n",
       " 'диагональный',\n",
       " 'матрица',\n",
       " 'иметь',\n",
       " 'вид',\n",
       " 'литература',\n",
       " 'править',\n",
       " 'править',\n",
       " 'вика',\n",
       " 'текст',\n",
       " 'курош',\n",
       " 'курс',\n",
       " 'высокий',\n",
       " 'алгебра',\n",
       " 'наука',\n",
       " 'ильин',\n",
       " 'позняк',\n",
       " 'линейный',\n",
       " 'алгебра',\n",
       " 'наука',\n",
       " 'физматлить',\n",
       " 'шафаре',\n",
       " 'ремиз',\n",
       " 'линейный',\n",
       " 'алгебра',\n",
       " 'геометрия',\n",
       " 'физматлить',\n",
       " 'москва',\n",
       " 'примечание',\n",
       " 'править',\n",
       " 'править',\n",
       " 'вика',\n",
       " 'текст',\n",
       " 'русый',\n",
       " 'страница',\n",
       " 'шафаре',\n",
       " 'ремиз',\n",
       " 'линейный',\n",
       " 'алгебра',\n",
       " 'геометрия',\n",
       " 'пара',\n",
       " 'физматлить',\n",
       " 'москва',\n",
       " 'источник',\n",
       " 'определитель',\n",
       " 'вандермонд',\n",
       " 'категория',\n",
       " 'метод',\n",
       " 'линейный',\n",
       " 'алгебра',\n",
       " 'навигация',\n",
       " 'персональный',\n",
       " 'инструмент',\n",
       " 'представиться',\n",
       " 'тный',\n",
       " 'записьвойти',\n",
       " 'пространство',\n",
       " 'статья',\n",
       " 'обсуждение',\n",
       " 'вариант',\n",
       " 'просмотр',\n",
       " 'читать',\n",
       " 'править',\n",
       " 'править',\n",
       " 'вика',\n",
       " 'текст',\n",
       " 'история',\n",
       " 'поиск',\n",
       " 'навигация',\n",
       " 'заглавный',\n",
       " 'яизбранный',\n",
       " 'статьислучайный',\n",
       " 'статьятекущий',\n",
       " 'событие',\n",
       " 'участие',\n",
       " 'сообщить',\n",
       " 'ошибкепортал',\n",
       " 'правкиновое',\n",
       " 'инструмент',\n",
       " 'ссылка',\n",
       " 'сюдасвязанный',\n",
       " 'ссылкасведение',\n",
       " 'страницеэлемент',\n",
       " 'страница',\n",
       " 'печать',\n",
       " 'экспорт',\n",
       " 'создать',\n",
       " 'книгускачать',\n",
       " 'версия',\n",
       " 'печать',\n",
       " 'другой',\n",
       " 'язык',\n",
       " 'укр',\n",
       " 'нська',\n",
       " 'править',\n",
       " 'ссылка',\n",
       " 'последний',\n",
       " 'изменение',\n",
       " 'страница',\n",
       " 'январь',\n",
       " 'текст',\n",
       " 'доступный',\n",
       " 'лицензия',\n",
       " 'отдельный',\n",
       " 'случай',\n",
       " 'мочь',\n",
       " 'действовать',\n",
       " 'дополнительный',\n",
       " 'условие',\n",
       " 'дробный',\n",
       " 'условие',\n",
       " 'использование',\n",
       " 'товарный',\n",
       " 'знак',\n",
       " 'некоммерческий',\n",
       " 'организация',\n",
       " 'связаться',\n",
       " 'мы',\n",
       " 'политика',\n",
       " 'описание',\n",
       " 'википедия',\n",
       " 'отказ',\n",
       " 'ответственность',\n",
       " 'разработчик',\n",
       " 'соглашение',\n",
       " 'мобильный',\n",
       " 'версия',\n",
       " 'шаблон',\n",
       " 'шаблон',\n",
       " 'шаблон',\n",
       " 'шаблон',\n",
       " 'шаблон',\n",
       " 'шаблон',\n",
       " 'чтд',\n",
       " 'шаблон']"
      ]
     },
     "execution_count": 9,
     "metadata": {},
     "output_type": "execute_result"
    }
   ],
   "source": [
    "get_nouns_list_from_url(web_url)"
   ]
  },
  {
   "cell_type": "code",
   "execution_count": null,
   "metadata": {
    "collapsed": true
   },
   "outputs": [],
   "source": []
  },
  {
   "cell_type": "markdown",
   "metadata": {},
   "source": [
    "### Now we need to get top tf-idf values and show corresponding words"
   ]
  },
  {
   "cell_type": "code",
   "execution_count": 12,
   "metadata": {
    "ExecuteTime": {
     "end_time": "2016-10-22T19:53:12.783537",
     "start_time": "2016-10-22T19:53:12.779616"
    },
    "collapsed": false
   },
   "outputs": [],
   "source": [
    "import numpy as np\n",
    "from sklearn.feature_extraction.text import CountVectorizer, TfidfTransformer\n",
    "\n",
    "# инициализируем модельки\n",
    "count_vect = CountVectorizer()\n",
    "tf_idf = TfidfTransformer()"
   ]
  },
  {
   "cell_type": "code",
   "execution_count": 16,
   "metadata": {
    "ExecuteTime": {
     "end_time": "2016-10-22T19:57:02.957026",
     "start_time": "2016-10-22T19:57:02.222166"
    },
    "collapsed": false
   },
   "outputs": [],
   "source": [
    "# применяем CountVectorizer к строке из слов, вытянутых с веб-страницы\n",
    "X = count_vect.fit_transform([\" \".join(get_nouns_list_from_url(web_url))])\n",
    "X = tf_idf.fit_transform(X)"
   ]
  },
  {
   "cell_type": "code",
   "execution_count": 17,
   "metadata": {
    "ExecuteTime": {
     "end_time": "2016-10-22T19:57:03.402084",
     "start_time": "2016-10-22T19:57:03.395411"
    },
    "collapsed": false
   },
   "outputs": [],
   "source": [
    "# отсортированный по невозрастанию массив пар индекс-tfidf значение\n",
    "tfidf_repr = sorted([(a[0][1], a[1]) for a in X.todok().items()], key=lambda a: a[1], reverse=True)"
   ]
  },
  {
   "cell_type": "code",
   "execution_count": 18,
   "metadata": {
    "ExecuteTime": {
     "end_time": "2016-10-22T19:57:04.430679",
     "start_time": "2016-10-22T19:57:04.425885"
    },
    "collapsed": false
   },
   "outputs": [
    {
     "data": {
      "text/plain": [
       "[(75, 0.32551538350846376),\n",
       " (3, 0.32551538350846376),\n",
       " (149, 0.28482596056990578),\n",
       " (92, 0.28482596056990578),\n",
       " (1, 0.20344711469278987),\n",
       " (52, 0.20344711469278987),\n",
       " (47, 0.20344711469278987),\n",
       " (127, 0.16275769175423188),\n",
       " (55, 0.16275769175423188),\n",
       " (133, 0.16275769175423188)]"
      ]
     },
     "execution_count": 18,
     "metadata": {},
     "output_type": "execute_result"
    }
   ],
   "source": [
    "tfidf_repr[:10]"
   ]
  },
  {
   "cell_type": "code",
   "execution_count": 19,
   "metadata": {
    "ExecuteTime": {
     "end_time": "2016-10-22T19:57:06.326830",
     "start_time": "2016-10-22T19:57:06.323800"
    },
    "collapsed": true
   },
   "outputs": [],
   "source": [
    "# теперь сделаем из этого словарь\n",
    "tfidf_dict = {id_ : tfidf for id_, tfidf in tfidf_repr}"
   ]
  },
  {
   "cell_type": "code",
   "execution_count": 20,
   "metadata": {
    "ExecuteTime": {
     "end_time": "2016-10-22T19:57:08.307679",
     "start_time": "2016-10-22T19:57:08.303265"
    },
    "collapsed": true
   },
   "outputs": [],
   "source": [
    "# словарь для доставания слов из CountVectorizer словаря - то, что имеем\n",
    "good_vocab = {}\n",
    "for word, _id in count_vect.vocabulary_.items():\n",
    "    good_vocab[str(_id)] = word"
   ]
  },
  {
   "cell_type": "code",
   "execution_count": 21,
   "metadata": {
    "ExecuteTime": {
     "end_time": "2016-10-22T19:57:10.823357",
     "start_time": "2016-10-22T19:57:10.819329"
    },
    "collapsed": true
   },
   "outputs": [],
   "source": [
    "# хочется, чтобы сумма tf-idf значений в процентах была 100 :)\n",
    "def softmax(X):\n",
    "    a = np.array(X)\n",
    "    multiplier = 100 / np.sum(a)\n",
    "    return list(a * multiplier)"
   ]
  },
  {
   "cell_type": "code",
   "execution_count": 22,
   "metadata": {
    "ExecuteTime": {
     "end_time": "2016-10-22T19:57:13.189327",
     "start_time": "2016-10-22T19:57:13.163595"
    },
    "collapsed": false
   },
   "outputs": [],
   "source": [
    "res = []\n",
    "a = []\n",
    "b = []\n",
    "for k in topics:\n",
    "    # сначала название топика приведем к нормальной форме, чтобы лучше найти его в count_vect\n",
    "    word = morph.parse(k)[0].normal_form\n",
    "    _id = count_vect.vocabulary_.get(word)\n",
    "    if _id:\n",
    "        # по слову - айдишник, по айдишнику - tfidf значение. Если оно существует, то добавляем топик и tfidf в соотв. массивы\n",
    "        tfidf = tfidf_dict.get(_id)\n",
    "        if tfidf:\n",
    "            a.append(restore[k])\n",
    "            b.append(tfidf)\n",
    "b_soft = softmax(b)\n",
    "# только сейчас добавляем в результирующий массив изначальное название топика и его процентное содержание\n",
    "for i in range(len(a)):\n",
    "    res.append(\"{} — {:.2f}%\".format(a[i], b_soft[i]))\n",
    "    \n",
    "res = sorted(res, key=lambda x: float(x.split(\" — \")[1][:-1]), reverse=True)"
   ]
  },
  {
   "cell_type": "code",
   "execution_count": 23,
   "metadata": {
    "ExecuteTime": {
     "end_time": "2016-10-22T19:57:16.262403",
     "start_time": "2016-10-22T19:57:16.258621"
    },
    "collapsed": false
   },
   "outputs": [
    {
     "data": {
      "text/plain": [
       "['    /Наука и образование/наука — 28.57%',\n",
       " '    /Наука и образование/наука/математика — 14.29%',\n",
       " '    /Наука и образование/наука/литература — 14.29%',\n",
       " '    /Наука и образование/образование/высшее — 14.29%',\n",
       " '    /Наука и образование/образование/дополнительное — 14.29%',\n",
       " '    /Политика — 14.29%']"
      ]
     },
     "execution_count": 23,
     "metadata": {},
     "output_type": "execute_result"
    }
   ],
   "source": [
    "res[:10]"
   ]
  },
  {
   "cell_type": "markdown",
   "metadata": {},
   "source": [
    "### Now let's create all-in-one function (besause we can :) )"
   ]
  },
  {
   "cell_type": "code",
   "execution_count": 24,
   "metadata": {
    "ExecuteTime": {
     "end_time": "2016-10-22T19:57:19.206020",
     "start_time": "2016-10-22T19:57:19.069040"
    },
    "collapsed": true
   },
   "outputs": [],
   "source": [
    "import requests\n",
    "import re\n",
    "import nltk\n",
    "import pymorphy2\n",
    "import numpy as np\n",
    "from html2text import HTML2Text\n",
    "from nltk.corpus import stopwords\n",
    "from bs4 import BeautifulSoup\n",
    "from sklearn.feature_extraction.text import CountVectorizer, TfidfTransformer\n",
    "\n",
    "\n",
    "def method1(web_url, topn=10):\n",
    "    t = \"\"\"/Наука и образование\n",
    "    /Наука и образование/наука\n",
    "    /Наука и образование/наука/математика\n",
    "    /Наука и образование/наука/физика\n",
    "    /Наука и образование/наука/химия\n",
    "    /Наука и образование/наука/информатика\n",
    "    /Наука и образование/наука/информатика/биоинформатика\n",
    "    /Наука и образование/наука/информатика/анализ данных\n",
    "    /Наука и образование/наука/литература\n",
    "    /Наука и образование/образование\n",
    "    /Наука и образование/образование/школьное\n",
    "    /Наука и образование/образование/высшее\n",
    "    /Наука и образование/образование/дополнительное\n",
    "    /Наука и образование/образование/дополнительное/GoTo\n",
    "    /Политика\n",
    "    /Политика/Внутренняя\n",
    "    /Политика/Внешняя\n",
    "    /Экономика и бизнес\n",
    "    /Экономика и бизнес/Бизнес\n",
    "    /Экономика и бизнес/Бизнес/Стартапы\n",
    "    /Экономика и бизнес/Бизнес/Стартапы/E-Contenta\n",
    "    /Экономика и бизнес/Бизнес/Крупные компании\n",
    "    /Экономика и бизнес/Экономика\n",
    "    /Отдых и развлечения\n",
    "    /Отдых и развлечения/Кино\n",
    "    /Отдых и развлечения/Театр\n",
    "    /Отдых и развлечения/Компьютерные игры\n",
    "    /Здоровье и красота/Фитнес\n",
    "    /Здоровье и красота/Медицина\n",
    "    /Здоровье и красота/Косметология\"\"\".split(\"\\n\")\n",
    "    topics = [x[1:].split(\"/\")[-1] for x in t]\n",
    "    restore = {topics[i]: t[i] for i in range(len(topics))}\n",
    "    \n",
    "    \n",
    "    # получим текст\n",
    "    page = requests.get(web_url)\n",
    "    soup = BeautifulSoup(page.content, \"lxml\")\n",
    "    h = HTML2Text()\n",
    "    h.ignore_links = True\n",
    "    raw_text = h.handle(soup.body.text)\n",
    "    only_russian_text = re.sub(\"[^а-яА-Я]\", \" \", raw_text).strip()\n",
    "    \n",
    "    # оставим только слова без стоп-слов длины [3, 15] и только существительные и глаголы в нормальной форме\n",
    "    morph = pymorphy2.MorphAnalyzer()\n",
    "    words = only_russian_text.split()\n",
    "    stoplist = stopwords.words('russian')\n",
    "    data = []\n",
    "    for word in words:\n",
    "        if 2 < len(word) < 16 and word not in stoplist:\n",
    "            p = morph.parse(word)[0]\n",
    "            if p.tag.POS == 'NOUN' or \"VERB\":\n",
    "                data.append(str(p.normal_form))\n",
    "                \n",
    "    count_vect = CountVectorizer()\n",
    "    tf_idf = TfidfTransformer()\n",
    "    X = count_vect.fit_transform([\" \".join(data)])\n",
    "    X = tf_idf.fit_transform(X)\n",
    "    \n",
    "    tfidf_repr = sorted([(a[0][1], a[1]) for a in X.todok().items()], key=lambda a: a[1], reverse=True)\n",
    "    tfidf_dict = {id_ : tfidf for id_, tfidf in tfidf_repr}\n",
    "    \n",
    "    good_vocab = {str(_id) : word for word, _id in count_vect.vocabulary_.items()}\n",
    "    \n",
    "    res = []\n",
    "    a = []\n",
    "    b = []\n",
    "    for k in topics:\n",
    "        # сначала название топика приведем к нормальной форме, чтобы лучше найти его в count_vect\n",
    "        word = morph.parse(k)[0].normal_form\n",
    "        _id = count_vect.vocabulary_.get(word)\n",
    "        if _id:\n",
    "            # по слову - айдишник, по айдишнику - tfidf значение. Если оно существует, то добавляем топик и tfidf в соотв. массивы\n",
    "            tfidf = tfidf_dict.get(_id)\n",
    "            if tfidf:\n",
    "                a.append(restore[k])\n",
    "                b.append(tfidf)\n",
    "                \n",
    "    v = np.array(b)\n",
    "    if np.sum(v) == 0:\n",
    "        print(\"Вероятно, вы показываете мне английский текст, я так не умею\")\n",
    "        print(\"Ну или вы нашли сайт, который не подходит ни под одну категорию\")\n",
    "        return []\n",
    "    multiplier = 100 / np.sum(v)\n",
    "    b_soft = list(v * multiplier)\n",
    "\n",
    "    # только сейчас добавляем в результирующий массив изначальное название топика и его процентное содержание\n",
    "    for i in range(len(a)):\n",
    "        res.append(\"{} — {:.2f}%\".format(a[i], b_soft[i]))\n",
    "        \n",
    "    return sorted(res, key=lambda x: float(x.split(\" — \")[1][:-1]), reverse=True)[:topn]"
   ]
  },
  {
   "cell_type": "code",
   "execution_count": 25,
   "metadata": {
    "ExecuteTime": {
     "end_time": "2016-10-22T19:57:20.878275",
     "start_time": "2016-10-22T19:57:20.236087"
    },
    "collapsed": false
   },
   "outputs": [
    {
     "data": {
      "text/plain": [
       "['    /Наука и образование/образование — 31.58%',\n",
       " '    /Наука и образование/наука — 15.79%',\n",
       " '    /Здоровье и красота/Медицина — 15.79%',\n",
       " '    /Экономика и бизнес/Бизнес — 10.53%',\n",
       " '    /Наука и образование/образование/школьное — 5.26%',\n",
       " '    /Экономика и бизнес/Экономика — 5.26%',\n",
       " '    /Отдых и развлечения/Кино — 5.26%',\n",
       " '    /Отдых и развлечения/Театр — 5.26%',\n",
       " '    /Здоровье и красота/Фитнес — 5.26%']"
      ]
     },
     "execution_count": 25,
     "metadata": {},
     "output_type": "execute_result"
    }
   ],
   "source": [
    "method1(\"http://goto.msk.ru/hackathon/\")"
   ]
  },
  {
   "cell_type": "code",
   "execution_count": 26,
   "metadata": {
    "ExecuteTime": {
     "end_time": "2016-10-22T19:57:24.116849",
     "start_time": "2016-10-22T19:57:21.322144"
    },
    "collapsed": false
   },
   "outputs": [
    {
     "data": {
      "text/plain": [
       "['    /Отдых и развлечения/Кино — 83.33%',\n",
       " '    /Политика/Внутренняя — 11.11%',\n",
       " '    /Наука и образование/образование/высшее — 5.56%']"
      ]
     },
     "execution_count": 26,
     "metadata": {},
     "output_type": "execute_result"
    }
   ],
   "source": [
    "method1(\"https://www.kinopoisk.ru/film/648440/\")"
   ]
  },
  {
   "cell_type": "code",
   "execution_count": 27,
   "metadata": {
    "ExecuteTime": {
     "end_time": "2016-10-22T19:57:25.945860",
     "start_time": "2016-10-22T19:57:25.131439"
    },
    "collapsed": false
   },
   "outputs": [
    {
     "data": {
      "text/plain": [
       "['    /Экономика и бизнес/Бизнес — 75.00%',\n",
       " '    /Наука и образование/образование/высшее — 25.00%']"
      ]
     },
     "execution_count": 27,
     "metadata": {},
     "output_type": "execute_result"
    }
   ],
   "source": [
    "method1(\"https://e-contenta.com/ru/\")"
   ]
  },
  {
   "cell_type": "code",
   "execution_count": 28,
   "metadata": {
    "ExecuteTime": {
     "end_time": "2016-10-22T19:57:30.478560",
     "start_time": "2016-10-22T19:57:26.635644"
    },
    "collapsed": false
   },
   "outputs": [
    {
     "data": {
      "text/plain": [
       "['    /Наука и образование/образование/высшее — 56.41%',\n",
       " '    /Наука и образование/образование/дополнительное — 10.26%',\n",
       " '    /Наука и образование/наука/математика — 7.69%',\n",
       " '    /Наука и образование/наука/литература — 7.69%',\n",
       " '    /Политика/Внешняя — 7.69%',\n",
       " '    /Наука и образование/наука/информатика — 5.13%',\n",
       " '    /Политика — 2.56%',\n",
       " '    /Политика/Внутренняя — 2.56%']"
      ]
     },
     "execution_count": 28,
     "metadata": {},
     "output_type": "execute_result"
    }
   ],
   "source": [
    "method1(\"https://ru.wikipedia.org/wiki/C%2B%2B\")"
   ]
  },
  {
   "cell_type": "code",
   "execution_count": null,
   "metadata": {
    "collapsed": true
   },
   "outputs": [],
   "source": []
  }
 ],
 "metadata": {
  "kernelspec": {
   "display_name": "Python 3",
   "language": "python",
   "name": "python3"
  },
  "language_info": {
   "codemirror_mode": {
    "name": "ipython",
    "version": 3
   },
   "file_extension": ".py",
   "mimetype": "text/x-python",
   "name": "python",
   "nbconvert_exporter": "python",
   "pygments_lexer": "ipython3",
   "version": "3.5.1"
  }
 },
 "nbformat": 4,
 "nbformat_minor": 1
}
