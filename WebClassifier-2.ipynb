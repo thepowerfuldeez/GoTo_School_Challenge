{
 "cells": [
  {
   "cell_type": "markdown",
   "metadata": {},
   "source": [
    "# Метод 2 - Использовать Word2Vec модель\n",
    "#### Будем складывать векторы всех слов"
   ]
  },
  {
   "cell_type": "markdown",
   "metadata": {},
   "source": [
    "## using [this](http://ling.go.mail.ru/misc/dialogue_2015.html) corpora\n",
    "### (News corpus and Russian National Corpus)"
   ]
  },
  {
   "cell_type": "code",
   "execution_count": 1,
   "metadata": {
    "ExecuteTime": {
     "end_time": "2016-10-19T21:08:14.377210",
     "start_time": "2016-10-19T21:08:12.740593"
    },
    "collapsed": true
   },
   "outputs": [],
   "source": [
    "import requests\n",
    "import re\n",
    "import nltk\n",
    "import pymorphy2\n",
    "import numpy as np\n",
    "from html2text import HTML2Text\n",
    "from nltk.corpus import stopwords\n",
    "from bs4 import BeautifulSoup\n",
    "from sklearn.feature_extraction.text import CountVectorizer, TfidfTransformer\n",
    "from gensim.models.word2vec import Word2Vec"
   ]
  },
  {
   "cell_type": "code",
   "execution_count": 2,
   "metadata": {
    "ExecuteTime": {
     "end_time": "2016-10-19T21:08:14.388258",
     "start_time": "2016-10-19T21:08:14.378880"
    },
    "collapsed": false
   },
   "outputs": [],
   "source": [
    "# данные тематики\n",
    "t = \"\"\"/Наука и образование\n",
    "    /Наука и образование/наука\n",
    "    /Наука и образование/наука/математика\n",
    "    /Наука и образование/наука/физика\n",
    "    /Наука и образование/наука/химия\n",
    "    /Наука и образование/наука/информатика\n",
    "    /Наука и образование/наука/информатика/биоинформатика\n",
    "    /Наука и образование/наука/информатика/анализ данных\n",
    "    /Наука и образование/наука/литература\n",
    "    /Наука и образование/образование\n",
    "    /Наука и образование/образование/школьное\n",
    "    /Наука и образование/образование/высшее\n",
    "    /Наука и образование/образование/дополнительное\n",
    "    /Наука и образование/образование/дополнительное/GoTo\n",
    "    /Политика\n",
    "    /Политика/Внутренняя\n",
    "    /Политика/Внешняя\n",
    "    /Экономика и бизнес\n",
    "    /Экономика и бизнес/Бизнес\n",
    "    /Экономика и бизнес/Бизнес/Стартапы\n",
    "    /Экономика и бизнес/Бизнес/Стартапы/E-Contenta\n",
    "    /Экономика и бизнес/Бизнес/Крупные компании\n",
    "    /Экономика и бизнес/Экономика\n",
    "    /Отдых и развлечения\n",
    "    /Отдых и развлечения/Кино\n",
    "    /Отдых и развлечения/Театр\n",
    "    /Отдых и развлечения/Компьютерные игры\n",
    "    /Здоровье и красота/Фитнес\n",
    "    /Здоровье и красота/Медицина\n",
    "    /Здоровье и красота/Косметология\"\"\".split(\"\\n\")\n",
    "\n",
    "# массив последних тем в иерархии (топики) и словарь, с пом. которого можно восстановить полную структуру\n",
    "topics = [x[1:].split(\"/\")[-1] for x in t]\n",
    "restore = {topics[i]: t[i] for i in range(len(topics))}"
   ]
  },
  {
   "cell_type": "markdown",
   "metadata": {},
   "source": [
    "## Описание есть в файле WebClassifier-1.ipynb"
   ]
  },
  {
   "cell_type": "code",
   "execution_count": 3,
   "metadata": {
    "ExecuteTime": {
     "end_time": "2016-10-19T21:08:14.938706",
     "start_time": "2016-10-19T21:08:14.390058"
    },
    "collapsed": false
   },
   "outputs": [],
   "source": [
    "web_url = \"https://ru.wikipedia.org/wiki/%D0%9E%D0%BF%D1%80%D0%B5%D0%B4%D0%B5%D0%BB%D0%B8%D1%82%D0%B5%D0%BB%D1%8C_%D0%92%D0%B0%D0%BD%D0%B4%D0%B5%D1%80%D0%BC%D0%BE%D0%BD%D0%B4%D0%B0\"\n",
    "page = requests.get(web_url)\n",
    "soup = BeautifulSoup(page.content, \"lxml\")\n",
    "h = HTML2Text()\n",
    "h.ignore_links = True\n",
    "raw_text = h.handle(soup.body.text)\n",
    "only_russian_text = re.sub(\"[^а-яА-Я]\", \" \", raw_text).strip()\n",
    "morph = pymorphy2.MorphAnalyzer()\n",
    "words = only_russian_text.split()\n",
    "stoplist = stopwords.words('russian')\n",
    "data = []\n",
    "for word in words:\n",
    "    if 2 < len(word) < 16 and word not in stoplist:\n",
    "        p = morph.parse(word)[0]\n",
    "        if p.tag.POS == 'NOUN' or \"VERB\":\n",
    "            data.append(str(p.normal_form))\n",
    "count_vect = CountVectorizer()\n",
    "tf_idf = TfidfTransformer()\n",
    "X = count_vect.fit_transform([\" \".join(data)])\n",
    "X = tf_idf.fit_transform(X)\n",
    "tfidf_repr = sorted([(a[0][1], a[1]) for a in X.todok().items()], key=lambda a: a[1], reverse=True)\n",
    "tfidf_dict = {id_ : tfidf for id_, tfidf in tfidf_repr}"
   ]
  },
  {
   "cell_type": "code",
   "execution_count": 4,
   "metadata": {
    "ExecuteTime": {
     "end_time": "2016-10-19T21:08:14.942438",
     "start_time": "2016-10-19T21:08:14.940072"
    },
    "collapsed": false
   },
   "outputs": [],
   "source": [
    "from gensim.models.word2vec import Word2Vec"
   ]
  },
  {
   "cell_type": "code",
   "execution_count": 5,
   "metadata": {
    "ExecuteTime": {
     "end_time": "2016-10-19T21:08:19.642475",
     "start_time": "2016-10-19T21:08:14.944088"
    },
    "collapsed": false
   },
   "outputs": [],
   "source": [
    "model = Word2Vec.load_word2vec_format('news.model.bin', binary=True)"
   ]
  },
  {
   "cell_type": "code",
   "execution_count": 6,
   "metadata": {
    "ExecuteTime": {
     "end_time": "2016-10-19T21:08:19.664639",
     "start_time": "2016-10-19T21:08:19.645437"
    },
    "collapsed": false
   },
   "outputs": [],
   "source": [
    "a = []\n",
    "b = []\n",
    "for k in topics:\n",
    "    # сначала название топика приведем к нормальной форме, чтобы лучше найти его в count_vect\n",
    "    word = morph.parse(k)[0].normal_form\n",
    "    _id = count_vect.vocabulary_.get(word)\n",
    "    if _id:\n",
    "        # по слову - айдишник, по айдишнику - tfidf значение. Если оно существует, то добавляем топик и tfidf в соотв. массивы\n",
    "        tfidf = tfidf_dict.get(_id)\n",
    "        if tfidf:\n",
    "            a.append(k)\n",
    "            b.append(tfidf)"
   ]
  },
  {
   "cell_type": "code",
   "execution_count": 7,
   "metadata": {
    "ExecuteTime": {
     "end_time": "2016-10-19T21:08:22.045768",
     "start_time": "2016-10-19T21:08:19.666455"
    },
    "collapsed": false
   },
   "outputs": [],
   "source": [
    "k = 0\n",
    "# нулевой вектор, он же и результирующий - сложение по правилам numpy\n",
    "vector_summ = np.zeros(model.vector_size)\n",
    "for i in range(len(a)):\n",
    "    try:\n",
    "        vector_summ += (model[a[i]] * b[i])\n",
    "    except KeyError:\n",
    "        k += 1\n",
    "\n",
    "hundred_similar_words = model.most_similar(positive=[vector_summ], negative=[], topn=100)"
   ]
  },
  {
   "cell_type": "code",
   "execution_count": 8,
   "metadata": {
    "ExecuteTime": {
     "end_time": "2016-10-19T21:08:22.064121",
     "start_time": "2016-10-19T21:08:22.047374"
    },
    "collapsed": false
   },
   "outputs": [
    {
     "data": {
      "text/plain": [
       "[('наука', 0.8318927884101868),\n",
       " ('математика', 0.6977936029434204),\n",
       " ('литература', 0.6834399700164795),\n",
       " ('физика', 0.6183444857597351),\n",
       " ('биология', 0.6048916578292847),\n",
       " ('естествознание', 0.5761309862136841),\n",
       " ('физико-математический', 0.5751566290855408),\n",
       " ('информатика', 0.5618166923522949),\n",
       " ('лингвистика', 0.5615713596343994),\n",
       " ('языкознание', 0.5526806116104126),\n",
       " ('культурология', 0.5335828065872192),\n",
       " ('филологический', 0.5316666960716248),\n",
       " ('обществознание', 0.531338632106781),\n",
       " ('химия', 0.5215914249420166),\n",
       " ('кибернетика', 0.5192195177078247),\n",
       " ('естественнонаучный', 0.517939031124115),\n",
       " ('обществоведение', 0.5163986682891846),\n",
       " ('литературоведение', 0.5140202641487122),\n",
       " ('член-корреспондент', 0.5103638172149658),\n",
       " ('астрономия', 0.5091902017593384),\n",
       " ('математик', 0.5085898041725159),\n",
       " ('алгебра', 0.501548707485199),\n",
       " ('педагогика', 0.49928444623947144),\n",
       " ('естественно-научный', 0.49542444944381714),\n",
       " ('доцент', 0.4946599304676056),\n",
       " ('география', 0.4937931299209595),\n",
       " ('профессор', 0.49146321415901184),\n",
       " ('филология', 0.49140119552612305),\n",
       " ('преподавание', 0.4779626429080963),\n",
       " ('искусствоведение', 0.4751476049423218),\n",
       " ('религиоведение', 0.4680687189102173),\n",
       " ('научный', 0.4677838683128357),\n",
       " ('доктор', 0.4668896794319153),\n",
       " ('гуманитарий', 0.4645380675792694),\n",
       " ('рггу', 0.4618639349937439),\n",
       " ('биофизика', 0.45989352464675903),\n",
       " ('кафедра', 0.4597598612308502),\n",
       " ('икт', 0.4474126696586609),\n",
       " ('егэ', 0.44584789872169495),\n",
       " ('материаловедение', 0.44132643938064575),\n",
       " ('философский', 0.44089844822883606),\n",
       " ('постдипломный', 0.4373588562011719),\n",
       " ('этнология', 0.43615925312042236),\n",
       " ('зоология', 0.43352681398391724),\n",
       " ('ран', 0.43237361311912537),\n",
       " ('фольклористика', 0.43184441328048706),\n",
       " ('словесность', 0.43153420090675354),\n",
       " ('выпускник', 0.43024584650993347),\n",
       " ('регионоведение', 0.4299991726875305),\n",
       " ('факультет', 0.4281841516494751),\n",
       " ('завкафедрой', 0.42376160621643066),\n",
       " ('экзамен', 0.42358309030532837),\n",
       " ('информатик', 0.4235752820968628),\n",
       " ('богословие', 0.42037975788116455),\n",
       " ('междисциплинарный', 0.4161747694015503),\n",
       " ('математический', 0.4150702655315399),\n",
       " ('декан', 0.41352152824401855),\n",
       " ('агрономия', 0.4131290912628174),\n",
       " ('кристаллография', 0.41259342432022095),\n",
       " ('почвоведение', 0.4124391973018646),\n",
       " ('биоинформатика', 0.41017675399780273),\n",
       " ('антропология', 0.4081488847732544),\n",
       " ('последипломный', 0.4080609977245331),\n",
       " ('педагогический', 0.4073807895183563),\n",
       " ('политология', 0.4067690372467041),\n",
       " ('монография', 0.4064355790615082),\n",
       " ('образование', 0.4056474566459656),\n",
       " ('физфак', 0.4029153883457184),\n",
       " ('теология', 0.4027196764945984),\n",
       " ('преподавать', 0.40110549330711365),\n",
       " ('механико-математический', 0.40066710114479065),\n",
       " ('стобалльник', 0.40048903226852417),\n",
       " ('философия', 0.39983850717544556),\n",
       " ('биохимия', 0.3990231156349182),\n",
       " ('преподаватель', 0.3987430930137634),\n",
       " ('ргпу', 0.3985227644443512),\n",
       " ('спбга', 0.3980093002319336),\n",
       " ('минералогический', 0.39568665623664856),\n",
       " ('преподаваться', 0.39553332328796387),\n",
       " ('краеведение', 0.39509719610214233),\n",
       " ('одиннадцатиклассник', 0.3929375112056732),\n",
       " ('физмат', 0.3927803635597229),\n",
       " ('академия', 0.3923981189727783),\n",
       " ('вузовский', 0.3916284441947937),\n",
       " ('источниковедение', 0.3908005356788635),\n",
       " ('страноведение', 0.3902626633644104),\n",
       " ('мехмат', 0.38946956396102905),\n",
       " ('докторант', 0.38823267817497253),\n",
       " ('институт', 0.38750046491622925),\n",
       " ('психология', 0.3869078755378723),\n",
       " ('минобрнаука', 0.38573724031448364),\n",
       " ('документоведение', 0.38497424125671387),\n",
       " ('инноватик', 0.38430291414260864),\n",
       " ('школьник', 0.38413113355636597),\n",
       " ('членкор', 0.3827853500843048),\n",
       " ('филолог', 0.3826480507850647),\n",
       " ('академик', 0.38262739777565),\n",
       " ('популяризатор', 0.3823971748352051),\n",
       " ('востоковедение', 0.38145485520362854),\n",
       " ('минобразование', 0.38070210814476013)]"
      ]
     },
     "execution_count": 8,
     "metadata": {},
     "output_type": "execute_result"
    }
   ],
   "source": [
    "hundred_similar_words"
   ]
  },
  {
   "cell_type": "code",
   "execution_count": 9,
   "metadata": {
    "ExecuteTime": {
     "end_time": "2016-10-19T21:08:22.070333",
     "start_time": "2016-10-19T21:08:22.066624"
    },
    "collapsed": false
   },
   "outputs": [
    {
     "data": {
      "text/plain": [
       "('    /Наука и образование/наука', 0.8318927884101868)"
      ]
     },
     "execution_count": 9,
     "metadata": {},
     "output_type": "execute_result"
    }
   ],
   "source": [
    "restore[hundred_similar_words[0][0]], hundred_similar_words[0][1]"
   ]
  },
  {
   "cell_type": "code",
   "execution_count": 10,
   "metadata": {
    "ExecuteTime": {
     "end_time": "2016-10-19T21:08:22.078322",
     "start_time": "2016-10-19T21:08:22.073180"
    },
    "collapsed": false
   },
   "outputs": [],
   "source": [
    "res = []\n",
    "try:\n",
    "    for i in range(len(restore)):\n",
    "        similar_word = hundred_similar_words[i]\n",
    "        res.append(\"{} — {:.2f}%\".format(restore[similar_word[0]], similar_word[1] * 100))\n",
    "except KeyError:\n",
    "    pass\n",
    "    \n",
    "res = sorted(res, key=lambda x: float(x.split(\" — \")[1][:-1]), reverse=True)"
   ]
  },
  {
   "cell_type": "code",
   "execution_count": 11,
   "metadata": {
    "ExecuteTime": {
     "end_time": "2016-10-19T21:08:22.083487",
     "start_time": "2016-10-19T21:08:22.080533"
    },
    "collapsed": false
   },
   "outputs": [
    {
     "data": {
      "text/plain": [
       "['    /Наука и образование/наука — 83.19%',\n",
       " '    /Наука и образование/наука/математика — 69.78%',\n",
       " '    /Наука и образование/наука/литература — 68.34%',\n",
       " '    /Наука и образование/наука/физика — 61.83%']"
      ]
     },
     "execution_count": 11,
     "metadata": {},
     "output_type": "execute_result"
    }
   ],
   "source": [
    "res"
   ]
  },
  {
   "cell_type": "markdown",
   "metadata": {},
   "source": [
    "## Снова объеденим все блоки и определим класс"
   ]
  },
  {
   "cell_type": "code",
   "execution_count": 12,
   "metadata": {
    "ExecuteTime": {
     "end_time": "2016-10-19T21:08:22.223324",
     "start_time": "2016-10-19T21:08:22.085015"
    },
    "collapsed": true
   },
   "outputs": [],
   "source": [
    "import requests\n",
    "import re\n",
    "import nltk\n",
    "import pymorphy2\n",
    "import numpy as np\n",
    "from html2text import HTML2Text\n",
    "from nltk.corpus import stopwords\n",
    "from bs4 import BeautifulSoup\n",
    "from sklearn.feature_extraction.text import CountVectorizer, TfidfTransformer\n",
    "from gensim.models.word2vec import Word2Vec\n",
    "\n",
    "\n",
    "class Method2():\n",
    "    def __init__(self):\n",
    "        t = \"\"\"/Наука и образование\n",
    "        /Наука и образование/наука\n",
    "        /Наука и образование/наука/математика\n",
    "        /Наука и образование/наука/физика\n",
    "        /Наука и образование/наука/химия\n",
    "        /Наука и образование/наука/информатика\n",
    "        /Наука и образование/наука/информатика/биоинформатика\n",
    "        /Наука и образование/наука/информатика/анализ данных\n",
    "        /Наука и образование/наука/литература\n",
    "        /Наука и образование/образование\n",
    "        /Наука и образование/образование/школьное\n",
    "        /Наука и образование/образование/высшее\n",
    "        /Наука и образование/образование/дополнительное\n",
    "        /Наука и образование/образование/дополнительное/GoTo\n",
    "        /Политика\n",
    "        /Политика/Внутренняя\n",
    "        /Политика/Внешняя\n",
    "        /Экономика и бизнес\n",
    "        /Экономика и бизнес/Бизнес\n",
    "        /Экономика и бизнес/Бизнес/Стартапы\n",
    "        /Экономика и бизнес/Бизнес/Стартапы/E-Contenta\n",
    "        /Экономика и бизнес/Бизнес/Крупные компании\n",
    "        /Экономика и бизнес/Экономика\n",
    "        /Отдых и развлечения\n",
    "        /Отдых и развлечения/Кино\n",
    "        /Отдых и развлечения/Театр\n",
    "        /Отдых и развлечения/Компьютерные игры\n",
    "        /Здоровье и красота/Фитнес\n",
    "        /Здоровье и красота/Медицина\n",
    "        /Здоровье и красота/Косметология\"\"\".split(\"\\n\")\n",
    "        self.topics = [x[1:].split(\"/\")[-1] for x in t]\n",
    "        self.restore = {self.topics[i]: t[i] for i in range(len(self.topics))}\n",
    "\n",
    "        self.morph = pymorphy2.MorphAnalyzer()\n",
    "\n",
    "        self.model = Word2Vec.load_word2vec_format('ruscorpora.model.bin', binary=True)\n",
    "\n",
    "    def classify(self, web_url, topn=10):\n",
    "\n",
    "        # получим текст\n",
    "        page = requests.get(web_url)\n",
    "        soup = BeautifulSoup(page.content, \"lxml\")\n",
    "        h = HTML2Text()\n",
    "        h.ignore_links = True\n",
    "        raw_text = h.handle(soup.body.text)\n",
    "        only_russian_text = re.sub(\"[^а-яА-Я]\", \" \", raw_text).strip()\n",
    "    \n",
    "        # оставим только слова без стоп-слов длины [3, 15] и только существительные и глаголы в нормальной форме\n",
    "    \n",
    "        words = only_russian_text.split()\n",
    "        stoplist = stopwords.words('russian')\n",
    "        data = []\n",
    "        for word in words:\n",
    "            if 2 < len(word) < 16 and word not in stoplist:\n",
    "                p = self.morph.parse(word)[0]\n",
    "                if p.tag.POS == 'NOUN' or \"VERB\":\n",
    "                    data.append(str(p.normal_form))\n",
    "    \n",
    "        count_vect = CountVectorizer()\n",
    "        tf_idf = TfidfTransformer()\n",
    "        X = count_vect.fit_transform([\" \".join(data)])\n",
    "        X = tf_idf.fit_transform(X)\n",
    "    \n",
    "        tfidf_repr = sorted([(a[0][1], a[1]) for a in X.todok().items()], key=lambda a: a[1], reverse=True)\n",
    "        tfidf_dict = {id_: tfidf for id_, tfidf in tfidf_repr}\n",
    "    \n",
    "        a = []\n",
    "        b = []\n",
    "        for k in self.topics:\n",
    "            # сначала название топика приведем к нормальной форме, чтобы лучше найти его в count_vect\n",
    "            word = self.morph.parse(k)[0].normal_form\n",
    "            _id = count_vect.vocabulary_.get(word)\n",
    "            if _id:\n",
    "                # по слову - айдишник, по айдишнику - tfidf значение. Если оно существует, то добавляем топик и tfidf в соотв. массивы\n",
    "                tfidf = tfidf_dict.get(_id)\n",
    "                if tfidf:\n",
    "                    a.append(k)\n",
    "                    b.append(tfidf)\n",
    "    \n",
    "        # нулевой вектор, он же и результирующий - сложение по правилам numpy\n",
    "        vector_summ = np.zeros(self.model.vector_size)\n",
    "        for i in range(len(a)):\n",
    "            try:\n",
    "                vector_summ += (self.model[a[i]] * b[i])\n",
    "            except KeyError:\n",
    "                pass\n",
    "    \n",
    "        hundred_similar_words = self.model.most_similar(positive=[vector_summ], negative=[], topn=1000)\n",
    "    \n",
    "        res = []\n",
    "        try:\n",
    "            for i in range(len(self.restore)):\n",
    "                similar_word = hundred_similar_words[i]\n",
    "                res.append(\"{} — {:.2f}%\".format(self.restore[similar_word[0]], similar_word[1] * 100))\n",
    "        except KeyError:\n",
    "            pass\n",
    "    \n",
    "        return sorted(res, key=lambda x: float(x.split(\" — \")[1][:-1]), reverse=True)[:topn]"
   ]
  },
  {
   "cell_type": "code",
   "execution_count": 13,
   "metadata": {
    "ExecuteTime": {
     "end_time": "2016-10-19T21:08:30.906064",
     "start_time": "2016-10-19T21:08:22.225359"
    },
    "collapsed": true
   },
   "outputs": [],
   "source": [
    "m = Method2()\n",
    "method2 = lambda web_url: m.classify(web_url)"
   ]
  },
  {
   "cell_type": "code",
   "execution_count": 14,
   "metadata": {
    "ExecuteTime": {
     "end_time": "2016-10-19T21:08:34.248466",
     "start_time": "2016-10-19T21:08:30.907628"
    },
    "collapsed": false
   },
   "outputs": [
    {
     "data": {
      "text/plain": [
       "['        /Наука и образование/образование — 91.41%',\n",
       " '        /Наука и образование/наука — 58.53%']"
      ]
     },
     "execution_count": 14,
     "metadata": {},
     "output_type": "execute_result"
    }
   ],
   "source": [
    "method2(\"http://goto.msk.ru/hackathon/\")"
   ]
  },
  {
   "cell_type": "code",
   "execution_count": 15,
   "metadata": {
    "ExecuteTime": {
     "end_time": "2016-10-19T21:08:36.642327",
     "start_time": "2016-10-19T21:08:34.251091"
    },
    "collapsed": false
   },
   "outputs": [
    {
     "data": {
      "text/plain": [
       "[]"
      ]
     },
     "execution_count": 15,
     "metadata": {},
     "output_type": "execute_result"
    }
   ],
   "source": [
    "method2(\"https://www.kinopoisk.ru/film/648440/\")"
   ]
  },
  {
   "cell_type": "code",
   "execution_count": 16,
   "metadata": {
    "ExecuteTime": {
     "end_time": "2016-10-19T21:08:37.335636",
     "start_time": "2016-10-19T21:08:36.643727"
    },
    "collapsed": false
   },
   "outputs": [
    {
     "data": {
      "text/plain": [
       "[]"
      ]
     },
     "execution_count": 16,
     "metadata": {},
     "output_type": "execute_result"
    }
   ],
   "source": [
    "method2(\"https://e-contenta.com/ru/\")"
   ]
  },
  {
   "cell_type": "code",
   "execution_count": 17,
   "metadata": {
    "ExecuteTime": {
     "end_time": "2016-10-19T21:08:41.265728",
     "start_time": "2016-10-19T21:08:37.337463"
    },
    "collapsed": false
   },
   "outputs": [
    {
     "data": {
      "text/plain": [
       "['        /Наука и образование/наука/математика — 80.89%',\n",
       " '        /Наука и образование/наука/литература — 71.03%',\n",
       " '        /Наука и образование/наука/информатика — 66.63%',\n",
       " '        /Наука и образование/наука/физика — 62.51%']"
      ]
     },
     "execution_count": 17,
     "metadata": {},
     "output_type": "execute_result"
    }
   ],
   "source": [
    "method2(\"https://ru.wikipedia.org/wiki/C%2B%2B\")"
   ]
  }
 ],
 "metadata": {
  "kernelspec": {
   "display_name": "Python 3",
   "language": "python",
   "name": "python3"
  },
  "language_info": {
   "codemirror_mode": {
    "name": "ipython",
    "version": 3
   },
   "file_extension": ".py",
   "mimetype": "text/x-python",
   "name": "python",
   "nbconvert_exporter": "python",
   "pygments_lexer": "ipython3",
   "version": "3.5.1"
  }
 },
 "nbformat": 4,
 "nbformat_minor": 1
}
