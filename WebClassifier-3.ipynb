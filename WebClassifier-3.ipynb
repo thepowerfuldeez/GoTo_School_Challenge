{
 "cells": [
  {
   "cell_type": "markdown",
   "metadata": {},
   "source": [
    "# Метод 3\n",
    "## Использование линейных моделей"
   ]
  },
  {
   "cell_type": "markdown",
   "metadata": {},
   "source": [
    "#### У нас уже есть словарь с названиями категорий и словами"
   ]
  },
  {
   "cell_type": "code",
   "execution_count": 1,
   "metadata": {
    "ExecuteTime": {
     "end_time": "2016-10-22T20:02:51.563417",
     "start_time": "2016-10-22T20:02:50.893212"
    },
    "collapsed": true
   },
   "outputs": [],
   "source": [
    "import pandas as pd"
   ]
  },
  {
   "cell_type": "code",
   "execution_count": 2,
   "metadata": {
    "ExecuteTime": {
     "end_time": "2016-10-22T20:02:51.718811",
     "start_time": "2016-10-22T20:02:51.565090"
    },
    "collapsed": true
   },
   "outputs": [],
   "source": [
    "data = pd.read_pickle(\"res.p\")"
   ]
  },
  {
   "cell_type": "code",
   "execution_count": 3,
   "metadata": {
    "ExecuteTime": {
     "end_time": "2016-10-22T20:02:52.255456",
     "start_time": "2016-10-22T20:02:52.226437"
    },
    "collapsed": false
   },
   "outputs": [
    {
     "data": {
      "text/plain": [
       "85"
      ]
     },
     "execution_count": 3,
     "metadata": {},
     "output_type": "execute_result"
    },
    {
     "data": {
      "text/plain": [
       "24"
      ]
     },
     "execution_count": 3,
     "metadata": {},
     "output_type": "execute_result"
    },
    {
     "data": {
      "text/plain": [
       "91"
      ]
     },
     "execution_count": 3,
     "metadata": {},
     "output_type": "execute_result"
    },
    {
     "data": {
      "text/plain": [
       "98"
      ]
     },
     "execution_count": 3,
     "metadata": {},
     "output_type": "execute_result"
    },
    {
     "data": {
      "text/plain": [
       "93"
      ]
     },
     "execution_count": 3,
     "metadata": {},
     "output_type": "execute_result"
    },
    {
     "data": {
      "text/plain": [
       "90"
      ]
     },
     "execution_count": 3,
     "metadata": {},
     "output_type": "execute_result"
    },
    {
     "data": {
      "text/plain": [
       "93"
      ]
     },
     "execution_count": 3,
     "metadata": {},
     "output_type": "execute_result"
    },
    {
     "data": {
      "text/plain": [
       "90"
      ]
     },
     "execution_count": 3,
     "metadata": {},
     "output_type": "execute_result"
    },
    {
     "data": {
      "text/plain": [
       "93"
      ]
     },
     "execution_count": 3,
     "metadata": {},
     "output_type": "execute_result"
    },
    {
     "data": {
      "text/plain": [
       "91"
      ]
     },
     "execution_count": 3,
     "metadata": {},
     "output_type": "execute_result"
    },
    {
     "data": {
      "text/plain": [
       "90"
      ]
     },
     "execution_count": 3,
     "metadata": {},
     "output_type": "execute_result"
    },
    {
     "data": {
      "text/plain": [
       "86"
      ]
     },
     "execution_count": 3,
     "metadata": {},
     "output_type": "execute_result"
    }
   ],
   "source": [
    "for key in data:\n",
    "    len([a for a in data[key] if a])"
   ]
  },
  {
   "cell_type": "code",
   "execution_count": 4,
   "metadata": {
    "ExecuteTime": {
     "end_time": "2016-10-22T20:02:52.822513",
     "start_time": "2016-10-22T20:02:52.791069"
    },
    "collapsed": true
   },
   "outputs": [],
   "source": [
    "X, Y = [], []\n",
    "k = 0\n",
    "for key in data:\n",
    "    value = data[key]\n",
    "    for words in value:\n",
    "        if words:\n",
    "            X.append(\" \".join(words))\n",
    "            Y.append(key)\n",
    "        else:\n",
    "            k += 1"
   ]
  },
  {
   "cell_type": "code",
   "execution_count": 5,
   "metadata": {
    "ExecuteTime": {
     "end_time": "2016-10-22T20:02:53.347433",
     "start_time": "2016-10-22T20:02:53.343433"
    },
    "collapsed": false
   },
   "outputs": [
    {
     "data": {
      "text/plain": [
       "(1024, 1024, 66)"
      ]
     },
     "execution_count": 5,
     "metadata": {},
     "output_type": "execute_result"
    }
   ],
   "source": [
    "len(X), len(Y), k"
   ]
  },
  {
   "cell_type": "markdown",
   "metadata": {},
   "source": [
    "### Снова сделаем из этого векторы и обучим модель\n",
    "#### Сразу напишем Pipeline для этого"
   ]
  },
  {
   "cell_type": "code",
   "execution_count": 6,
   "metadata": {
    "ExecuteTime": {
     "end_time": "2016-10-22T20:02:55.153759",
     "start_time": "2016-10-22T20:02:54.555394"
    },
    "collapsed": true
   },
   "outputs": [],
   "source": [
    "from sklearn.pipeline import Pipeline\n",
    "from sklearn.feature_extraction.text import CountVectorizer, TfidfTransformer\n",
    "from sklearn.cross_validation import train_test_split\n",
    "\n",
    "from sklearn.linear_model import SGDClassifier\n",
    "from sklearn.svm import SVC\n",
    "from sklearn.ensemble import RandomForestClassifier"
   ]
  },
  {
   "cell_type": "code",
   "execution_count": 7,
   "metadata": {
    "ExecuteTime": {
     "end_time": "2016-10-22T20:03:04.661079",
     "start_time": "2016-10-22T20:03:04.653905"
    },
    "collapsed": false
   },
   "outputs": [],
   "source": [
    "X_train, X_test, Y_train, Y_test = train_test_split(X, Y, test_size=0.2, random_state=42)\n",
    "\n",
    "text_clf_1 = Pipeline([('vect', CountVectorizer()),\n",
    "                    ('tfidf', TfidfTransformer()),\n",
    "                    ('classifier', SGDClassifier()),\n",
    "])\n",
    "\n",
    "text_clf_2 = Pipeline([('vect', CountVectorizer()),\n",
    "                    ('tfidf', TfidfTransformer()),\n",
    "                    ('classifier', RandomForestClassifier())\n",
    "])"
   ]
  },
  {
   "cell_type": "code",
   "execution_count": 8,
   "metadata": {
    "ExecuteTime": {
     "end_time": "2016-10-22T20:03:08.337652",
     "start_time": "2016-10-22T20:03:06.886603"
    },
    "collapsed": false
   },
   "outputs": [
    {
     "data": {
      "text/plain": [
       "Pipeline(steps=[('vect', CountVectorizer(analyzer='word', binary=False, decode_error='strict',\n",
       "        dtype=<class 'numpy.int64'>, encoding='utf-8', input='content',\n",
       "        lowercase=True, max_df=1.0, max_features=None, min_df=1,\n",
       "        ngram_range=(1, 1), preprocessor=None, stop_words=None,\n",
       "        strip...   penalty='l2', power_t=0.5, random_state=None, shuffle=True,\n",
       "       verbose=0, warm_start=False))])"
      ]
     },
     "execution_count": 8,
     "metadata": {},
     "output_type": "execute_result"
    },
    {
     "data": {
      "text/plain": [
       "Pipeline(steps=[('vect', CountVectorizer(analyzer='word', binary=False, decode_error='strict',\n",
       "        dtype=<class 'numpy.int64'>, encoding='utf-8', input='content',\n",
       "        lowercase=True, max_df=1.0, max_features=None, min_df=1,\n",
       "        ngram_range=(1, 1), preprocessor=None, stop_words=None,\n",
       "        strip...n_jobs=1,\n",
       "            oob_score=False, random_state=None, verbose=0,\n",
       "            warm_start=False))])"
      ]
     },
     "execution_count": 8,
     "metadata": {},
     "output_type": "execute_result"
    }
   ],
   "source": [
    "text_clf_1.fit(X_train, Y_train)\n",
    "text_clf_2.fit(X_train, Y_train)"
   ]
  },
  {
   "cell_type": "code",
   "execution_count": 9,
   "metadata": {
    "ExecuteTime": {
     "end_time": "2016-10-22T20:03:09.210183",
     "start_time": "2016-10-22T20:03:08.914207"
    },
    "collapsed": false
   },
   "outputs": [],
   "source": [
    "predicted_1 = text_clf_1.predict(X_test)\n",
    "predicted_2 = text_clf_2.predict(X_test)"
   ]
  },
  {
   "cell_type": "code",
   "execution_count": 10,
   "metadata": {
    "ExecuteTime": {
     "end_time": "2016-10-22T20:03:09.924505",
     "start_time": "2016-10-22T20:03:09.921983"
    },
    "collapsed": true
   },
   "outputs": [],
   "source": [
    "import numpy as np"
   ]
  },
  {
   "cell_type": "code",
   "execution_count": 11,
   "metadata": {
    "ExecuteTime": {
     "end_time": "2016-10-22T20:03:11.569451",
     "start_time": "2016-10-22T20:03:11.563542"
    },
    "collapsed": false
   },
   "outputs": [
    {
     "data": {
      "text/plain": [
       "0.72682926829268291"
      ]
     },
     "execution_count": 11,
     "metadata": {},
     "output_type": "execute_result"
    },
    {
     "data": {
      "text/plain": [
       "0.58048780487804874"
      ]
     },
     "execution_count": 11,
     "metadata": {},
     "output_type": "execute_result"
    }
   ],
   "source": [
    "np.mean(predicted_1 == Y_test)\n",
    "np.mean(predicted_2 == Y_test) "
   ]
  },
  {
   "cell_type": "markdown",
   "metadata": {},
   "source": [
    "# Да уж, что-то RandomForestClassifier не оправдал моих ожиданий на стандартных настройках. Оставим его и продолжим работать с SGDClassifier"
   ]
  },
  {
   "cell_type": "code",
   "execution_count": 12,
   "metadata": {
    "ExecuteTime": {
     "end_time": "2016-10-22T20:03:15.211623",
     "start_time": "2016-10-22T20:03:15.208005"
    },
    "collapsed": false
   },
   "outputs": [
    {
     "data": {
      "text/plain": [
       "'Торговля'"
      ]
     },
     "execution_count": 12,
     "metadata": {},
     "output_type": "execute_result"
    }
   ],
   "source": [
    "predicted_1[36]"
   ]
  },
  {
   "cell_type": "code",
   "execution_count": 13,
   "metadata": {
    "ExecuteTime": {
     "end_time": "2016-10-22T20:03:16.190742",
     "start_time": "2016-10-22T20:03:16.186856"
    },
    "collapsed": false
   },
   "outputs": [
    {
     "data": {
      "text/plain": [
       "'мас дилер москва варшавский шоссе карта проездаобратный звонокэкспресс кредитподбор новое авто контакт сколько готовый потратить новый автомобиль рубль рубль рубль рубль рубль рубль рубль рубль рубль рубль рубль рубль рубль рубль рубль рубль рубль рубль рубль рубль рубль рубль рубль рубль рубль рубл'"
      ]
     },
     "execution_count": 13,
     "metadata": {},
     "output_type": "execute_result"
    }
   ],
   "source": [
    "X_test[36][:300]"
   ]
  },
  {
   "cell_type": "markdown",
   "metadata": {},
   "source": [
    "## 72% просто стандартной конфигурацией...\n",
    "### Запустим Grid Search, чтобы получить более лучшую конфигурацию"
   ]
  },
  {
   "cell_type": "code",
   "execution_count": 14,
   "metadata": {
    "ExecuteTime": {
     "end_time": "2016-10-22T20:03:21.733861",
     "start_time": "2016-10-22T20:03:21.727985"
    },
    "collapsed": true
   },
   "outputs": [],
   "source": [
    "from sklearn.grid_search import GridSearchCV\n",
    "\n",
    "# Я просто взял параметры отсюда http://scikit-learn.org/dev/auto_examples/model_selection/grid_search_text_feature_extraction.html\n",
    "# но после первого применения изменил под себя\n",
    "parameters = {\n",
    "    'vect__max_df': (0.5, 1.0),\n",
    "    'vect__max_features': (None, 5000),\n",
    "    'vect__ngram_range': ((1, 1), (1, 2)),  # unigrams or bigrams\n",
    "#     'tfidf__use_idf': (True, False),\n",
    "#     'tfidf__norm': ('l1', 'l2'),\n",
    "    'classifier__loss': ('hinge', 'log', 'squared_hinge'),\n",
    "    'classifier__alpha': (1e-03, 1e-07),\n",
    "#     'classifier__penalty': ('l2', 'elasticnet'),\n",
    "    #'clf__n_iter': (10, 50, 80),\n",
    "}\n"
   ]
  },
  {
   "cell_type": "code",
   "execution_count": 15,
   "metadata": {
    "ExecuteTime": {
     "end_time": "2016-10-22T20:03:23.293728",
     "start_time": "2016-10-22T20:03:23.291115"
    },
    "collapsed": true
   },
   "outputs": [],
   "source": [
    "grid_search = GridSearchCV(text_clf_1, parameters, n_jobs=-1, verbose=1)"
   ]
  },
  {
   "cell_type": "code",
   "execution_count": 21,
   "metadata": {
    "ExecuteTime": {
     "end_time": "2016-10-21T19:46:33.537983",
     "start_time": "2016-10-21T19:44:56.132449"
    },
    "collapsed": false
   },
   "outputs": [
    {
     "name": "stdout",
     "output_type": "stream",
     "text": [
      "Fitting 3 folds for each of 48 candidates, totalling 144 fits\n"
     ]
    },
    {
     "name": "stderr",
     "output_type": "stream",
     "text": [
      "[Parallel(n_jobs=-1)]: Done  42 tasks      | elapsed:   27.8s\n",
      "[Parallel(n_jobs=-1)]: Done 144 out of 144 | elapsed:  1.6min finished\n"
     ]
    },
    {
     "data": {
      "text/plain": [
       "GridSearchCV(cv=None, error_score='raise',\n",
       "       estimator=Pipeline(steps=[('vect', CountVectorizer(analyzer='word', binary=False, decode_error='strict',\n",
       "        dtype=<class 'numpy.int64'>, encoding='utf-8', input='content',\n",
       "        lowercase=True, max_df=1.0, max_features=None, min_df=1,\n",
       "        ngram_range=(1, 1), preprocessor=None, stop_words=None,\n",
       "        strip...   penalty='l2', power_t=0.5, random_state=None, shuffle=True,\n",
       "       verbose=0, warm_start=False))]),\n",
       "       fit_params={}, iid=True, n_jobs=-1,\n",
       "       param_grid={'vect__max_df': (0.5, 1.0), 'classifier__alpha': (0.001, 1e-07), 'classifier__loss': ('hinge', 'log', 'squared_hinge'), 'vect__max_features': (None, 5000), 'vect__ngram_range': ((1, 1), (1, 2))},\n",
       "       pre_dispatch='2*n_jobs', refit=True, scoring=None, verbose=1)"
      ]
     },
     "execution_count": 21,
     "metadata": {},
     "output_type": "execute_result"
    }
   ],
   "source": [
    "grid_search.fit(X_train, Y_train)"
   ]
  },
  {
   "cell_type": "code",
   "execution_count": 22,
   "metadata": {
    "ExecuteTime": {
     "end_time": "2016-10-21T19:46:53.791527",
     "start_time": "2016-10-21T19:46:53.783360"
    },
    "collapsed": false,
    "scrolled": true
   },
   "outputs": [
    {
     "name": "stdout",
     "output_type": "stream",
     "text": [
      "Best score: 0.751\n",
      "Best parameters set:\n",
      "\tclassifier__alpha: 0.001\n",
      "\tclassifier__loss: 'log'\n",
      "\tvect__max_df: 0.5\n",
      "\tvect__max_features: 5000\n",
      "\tvect__ngram_range: (1, 2)\n"
     ]
    }
   ],
   "source": [
    "print(\"Best score: %0.3f\" % grid_search.best_score_)\n",
    "print(\"Best parameters set:\")\n",
    "best_parameters = grid_search.best_estimator_.get_params()\n",
    "for param_name in sorted(parameters.keys()):\n",
    "    print(\"\\t%s: %r\" % (param_name, best_parameters[param_name]))"
   ]
  },
  {
   "cell_type": "code",
   "execution_count": 16,
   "metadata": {
    "ExecuteTime": {
     "end_time": "2016-10-22T20:03:35.040211",
     "start_time": "2016-10-22T20:03:35.036346"
    },
    "collapsed": false
   },
   "outputs": [],
   "source": [
    "text_clf = Pipeline([('vect', CountVectorizer(max_df=0.5, max_features=5000, ngram_range=(1, 2))),\n",
    "                    ('tfidf', TfidfTransformer()),\n",
    "                    ('classifier', SGDClassifier(alpha=0.001, loss='log', penalty='l2')),\n",
    "])"
   ]
  },
  {
   "cell_type": "code",
   "execution_count": 17,
   "metadata": {
    "ExecuteTime": {
     "end_time": "2016-10-22T20:03:39.440638",
     "start_time": "2016-10-22T20:03:36.869558"
    },
    "collapsed": false
   },
   "outputs": [
    {
     "data": {
      "text/plain": [
       "Pipeline(steps=[('vect', CountVectorizer(analyzer='word', binary=False, decode_error='strict',\n",
       "        dtype=<class 'numpy.int64'>, encoding='utf-8', input='content',\n",
       "        lowercase=True, max_df=0.5, max_features=5000, min_df=1,\n",
       "        ngram_range=(1, 2), preprocessor=None, stop_words=None,\n",
       "        strip...   penalty='l2', power_t=0.5, random_state=None, shuffle=True,\n",
       "       verbose=0, warm_start=False))])"
      ]
     },
     "execution_count": 17,
     "metadata": {},
     "output_type": "execute_result"
    },
    {
     "data": {
      "text/plain": [
       "0.75121951219512195"
      ]
     },
     "execution_count": 17,
     "metadata": {},
     "output_type": "execute_result"
    }
   ],
   "source": [
    "text_clf.fit(X_train, Y_train)\n",
    "predicted = text_clf.predict(X_test)\n",
    "np.mean(predicted == Y_test)"
   ]
  },
  {
   "cell_type": "markdown",
   "metadata": {
    "collapsed": true
   },
   "source": [
    "# Результаты разные. Дадим SGDClassifier'у второй шанс, увеличив и изменив обучающую выборку"
   ]
  },
  {
   "cell_type": "code",
   "execution_count": 18,
   "metadata": {
    "ExecuteTime": {
     "end_time": "2016-10-22T20:03:45.230095",
     "start_time": "2016-10-22T20:03:44.765044"
    },
    "collapsed": true
   },
   "outputs": [],
   "source": [
    "data = pd.read_pickle(\"res_2.p\")"
   ]
  },
  {
   "cell_type": "code",
   "execution_count": 19,
   "metadata": {
    "ExecuteTime": {
     "end_time": "2016-10-22T20:03:47.751471",
     "start_time": "2016-10-22T20:03:47.734820"
    },
    "collapsed": false
   },
   "outputs": [
    {
     "data": {
      "text/plain": [
       "106"
      ]
     },
     "execution_count": 19,
     "metadata": {},
     "output_type": "execute_result"
    },
    {
     "data": {
      "text/plain": [
       "244"
      ]
     },
     "execution_count": 19,
     "metadata": {},
     "output_type": "execute_result"
    },
    {
     "data": {
      "text/plain": [
       "100"
      ]
     },
     "execution_count": 19,
     "metadata": {},
     "output_type": "execute_result"
    },
    {
     "data": {
      "text/plain": [
       "25"
      ]
     },
     "execution_count": 19,
     "metadata": {},
     "output_type": "execute_result"
    },
    {
     "data": {
      "text/plain": [
       "137"
      ]
     },
     "execution_count": 19,
     "metadata": {},
     "output_type": "execute_result"
    },
    {
     "data": {
      "text/plain": [
       "220"
      ]
     },
     "execution_count": 19,
     "metadata": {},
     "output_type": "execute_result"
    },
    {
     "data": {
      "text/plain": [
       "227"
      ]
     },
     "execution_count": 19,
     "metadata": {},
     "output_type": "execute_result"
    },
    {
     "data": {
      "text/plain": [
       "228"
      ]
     },
     "execution_count": 19,
     "metadata": {},
     "output_type": "execute_result"
    },
    {
     "data": {
      "text/plain": [
       "231"
      ]
     },
     "execution_count": 19,
     "metadata": {},
     "output_type": "execute_result"
    },
    {
     "data": {
      "text/plain": [
       "225"
      ]
     },
     "execution_count": 19,
     "metadata": {},
     "output_type": "execute_result"
    },
    {
     "data": {
      "text/plain": [
       "233"
      ]
     },
     "execution_count": 19,
     "metadata": {},
     "output_type": "execute_result"
    },
    {
     "data": {
      "text/plain": [
       "225"
      ]
     },
     "execution_count": 19,
     "metadata": {},
     "output_type": "execute_result"
    }
   ],
   "source": [
    "for key in data:\n",
    "    len([a for a in data[key] if a])"
   ]
  },
  {
   "cell_type": "code",
   "execution_count": 132,
   "metadata": {
    "ExecuteTime": {
     "end_time": "2016-10-22T20:52:21.745799",
     "start_time": "2016-10-22T20:52:18.679677"
    },
    "collapsed": true
   },
   "outputs": [],
   "source": [
    "from nltk.corpus import stopwords\n",
    "\n",
    "stoplist = stopwords.words('russian')\n",
    "\n",
    "X, Y = [], []\n",
    "k = 0\n",
    "for key in data:\n",
    "    value = data[key]\n",
    "    for words in value:\n",
    "        if words:\n",
    "            # Я вернулся из будущего и понял, что я все-таки хочу удалять предлоги и пр.\n",
    "            X.append(\" \".join([a for a in words if a not in stoplist]))\n",
    "            Y.append(key)\n",
    "        else:\n",
    "            k += 1"
   ]
  },
  {
   "cell_type": "code",
   "execution_count": 133,
   "metadata": {
    "ExecuteTime": {
     "end_time": "2016-10-22T20:52:22.346354",
     "start_time": "2016-10-22T20:52:22.341834"
    },
    "collapsed": false
   },
   "outputs": [
    {
     "data": {
      "text/plain": [
       "(2201, 2201, 135)"
      ]
     },
     "execution_count": 133,
     "metadata": {},
     "output_type": "execute_result"
    }
   ],
   "source": [
    "len(X), len(Y), k"
   ]
  },
  {
   "cell_type": "code",
   "execution_count": 134,
   "metadata": {
    "ExecuteTime": {
     "end_time": "2016-10-22T20:52:23.148583",
     "start_time": "2016-10-22T20:52:23.141159"
    },
    "collapsed": true
   },
   "outputs": [],
   "source": [
    "X_train, X_test, Y_train, Y_test = train_test_split(X, Y, test_size=0.2, random_state=42)"
   ]
  },
  {
   "cell_type": "code",
   "execution_count": 23,
   "metadata": {
    "ExecuteTime": {
     "end_time": "2016-10-22T20:04:12.950548",
     "start_time": "2016-10-22T20:04:12.914544"
    },
    "collapsed": true
   },
   "outputs": [],
   "source": [
    "text_clf = Pipeline([('vect', CountVectorizer()),\n",
    "                    ('tfidf', TfidfTransformer()),\n",
    "                    ('classifier', SGDClassifier()),\n",
    "])"
   ]
  },
  {
   "cell_type": "code",
   "execution_count": 50,
   "metadata": {
    "ExecuteTime": {
     "end_time": "2016-10-22T01:13:59.236064",
     "start_time": "2016-10-22T01:13:59.230237"
    },
    "collapsed": true
   },
   "outputs": [],
   "source": [
    "from sklearn.grid_search import GridSearchCV\n",
    "\n",
    "parameters = {\n",
    "    'vect__max_df': (0.5, 1.0),\n",
    "    'vect__max_features': (None, 5000),\n",
    "    'vect__ngram_range': ((1, 1), (1, 2)),  # unigrams or bigrams\n",
    "#     'tfidf__use_idf': (True, False),\n",
    "#     'tfidf__norm': ('l1', 'l2'),\n",
    "    'classifier__loss': ('hinge', 'log', 'squared_hinge'),\n",
    "    'classifier__alpha': (1e-03, 1e-07),\n",
    "#     'classifier__penalty': ('l2', 'elasticnet'),\n",
    "    #'clf__n_iter': (10, 50, 80),\n",
    "}\n"
   ]
  },
  {
   "cell_type": "code",
   "execution_count": 51,
   "metadata": {
    "ExecuteTime": {
     "end_time": "2016-10-22T01:14:07.217165",
     "start_time": "2016-10-22T01:14:07.214333"
    },
    "collapsed": true
   },
   "outputs": [],
   "source": [
    "grid_search = GridSearchCV(text_clf, parameters, n_jobs=-1, verbose=1)"
   ]
  },
  {
   "cell_type": "code",
   "execution_count": 52,
   "metadata": {
    "ExecuteTime": {
     "end_time": "2016-10-22T01:18:37.497469",
     "start_time": "2016-10-22T01:14:10.470493"
    },
    "collapsed": false
   },
   "outputs": [
    {
     "name": "stdout",
     "output_type": "stream",
     "text": [
      "Fitting 3 folds for each of 48 candidates, totalling 144 fits\n"
     ]
    },
    {
     "name": "stderr",
     "output_type": "stream",
     "text": [
      "[Parallel(n_jobs=-1)]: Done  42 tasks      | elapsed:  1.3min\n",
      "[Parallel(n_jobs=-1)]: Done 144 out of 144 | elapsed:  4.4min finished\n"
     ]
    },
    {
     "data": {
      "text/plain": [
       "GridSearchCV(cv=None, error_score='raise',\n",
       "       estimator=Pipeline(steps=[('vect', CountVectorizer(analyzer='word', binary=False, decode_error='strict',\n",
       "        dtype=<class 'numpy.int64'>, encoding='utf-8', input='content',\n",
       "        lowercase=True, max_df=1.0, max_features=None, min_df=1,\n",
       "        ngram_range=(1, 1), preprocessor=None, stop_words=None,\n",
       "        strip...   penalty='l2', power_t=0.5, random_state=None, shuffle=True,\n",
       "       verbose=0, warm_start=False))]),\n",
       "       fit_params={}, iid=True, n_jobs=-1,\n",
       "       param_grid={'vect__max_df': (0.5, 1.0), 'classifier__loss': ('hinge', 'log', 'squared_hinge'), 'vect__max_features': (None, 5000), 'vect__ngram_range': ((1, 1), (1, 2)), 'classifier__alpha': (0.001, 1e-07)},\n",
       "       pre_dispatch='2*n_jobs', refit=True, scoring=None, verbose=1)"
      ]
     },
     "execution_count": 52,
     "metadata": {},
     "output_type": "execute_result"
    }
   ],
   "source": [
    "grid_search.fit(X_train, Y_train)"
   ]
  },
  {
   "cell_type": "code",
   "execution_count": 53,
   "metadata": {
    "ExecuteTime": {
     "end_time": "2016-10-22T01:18:41.762834",
     "start_time": "2016-10-22T01:18:41.756217"
    },
    "collapsed": false,
    "scrolled": true
   },
   "outputs": [
    {
     "name": "stdout",
     "output_type": "stream",
     "text": [
      "Best score: 0.736\n",
      "Best parameters set:\n",
      "\tclassifier__alpha: 0.001\n",
      "\tclassifier__loss: 'hinge'\n",
      "\tvect__max_df: 0.5\n",
      "\tvect__max_features: None\n",
      "\tvect__ngram_range: (1, 1)\n"
     ]
    }
   ],
   "source": [
    "print(\"Best score: %0.3f\" % grid_search.best_score_)\n",
    "print(\"Best parameters set:\")\n",
    "best_parameters = grid_search.best_estimator_.get_params()\n",
    "for param_name in sorted(parameters.keys()):\n",
    "    print(\"\\t%s: %r\" % (param_name, best_parameters[param_name]))"
   ]
  },
  {
   "cell_type": "code",
   "execution_count": 124,
   "metadata": {
    "ExecuteTime": {
     "end_time": "2016-10-22T20:46:55.414087",
     "start_time": "2016-10-22T20:46:55.409491"
    },
    "collapsed": true
   },
   "outputs": [],
   "source": [
    "# text_clf = Pipeline([('vect', CountVectorizer(max_df=0.5, max_features=None, ngram_range=(1, 1))),\n",
    "#                     ('tfidf', TfidfTransformer(use_idf=True)),\n",
    "#                     ('classifier', SGDClassifier(loss='hinge', alpha=0.001)),\n",
    "# ])"
   ]
  },
  {
   "cell_type": "code",
   "execution_count": 128,
   "metadata": {
    "ExecuteTime": {
     "end_time": "2016-10-22T20:49:13.041945",
     "start_time": "2016-10-22T20:49:13.036928"
    },
    "collapsed": false
   },
   "outputs": [],
   "source": [
    "count_vect = CountVectorizer(max_df=0.5, max_features=None, ngram_range=(1, 1))\n",
    "tfidf_tr = TfidfTransformer(use_idf=True)\n",
    "sgd_classifier = SGDClassifier(loss='hinge', alpha=0.001)"
   ]
  },
  {
   "cell_type": "code",
   "execution_count": 135,
   "metadata": {
    "ExecuteTime": {
     "end_time": "2016-10-22T20:53:53.266616",
     "start_time": "2016-10-22T20:53:51.482782"
    },
    "collapsed": false
   },
   "outputs": [
    {
     "data": {
      "text/plain": [
       "SGDClassifier(alpha=0.001, average=False, class_weight=None, epsilon=0.1,\n",
       "       eta0=0.0, fit_intercept=True, l1_ratio=0.15,\n",
       "       learning_rate='optimal', loss='hinge', n_iter=5, n_jobs=1,\n",
       "       penalty='l2', power_t=0.5, random_state=None, shuffle=True,\n",
       "       verbose=0, warm_start=False)"
      ]
     },
     "execution_count": 135,
     "metadata": {},
     "output_type": "execute_result"
    },
    {
     "data": {
      "text/plain": [
       "0.74376417233560088"
      ]
     },
     "execution_count": 135,
     "metadata": {},
     "output_type": "execute_result"
    }
   ],
   "source": [
    "X_0 = count_vect.fit_transform(X_train)\n",
    "X_train_0 = tfidf_tr.fit_transform(X_0)\n",
    "# Y = count_vect.fit_transform(Y_train)\n",
    "# Y_train = tfidf_tr.fit_transform(Y)\n",
    "\n",
    "X_0 = count_vect.transform(X_test)\n",
    "X_test_0 = tfidf_tr.transform(X_0)\n",
    "sgd_classifier.fit(X_train_0, Y_train)\n",
    "predicted = sgd_classifier.predict(X_test_0)\n",
    "\n",
    "# text_clf.fit(X_train, Y_train)\n",
    "# predicted = text_clf.predict(X_test)\n",
    "np.mean(predicted == Y_test)"
   ]
  },
  {
   "cell_type": "code",
   "execution_count": 142,
   "metadata": {
    "ExecuteTime": {
     "end_time": "2016-10-22T20:57:37.093828",
     "start_time": "2016-10-22T20:57:37.072750"
    },
    "collapsed": false
   },
   "outputs": [],
   "source": [
    "import requests\n",
    "import pymystem3\n",
    "import re\n",
    "import numpy as np\n",
    "from bs4 import BeautifulSoup\n",
    "from nltk.tokenize import RegexpTokenizer\n",
    "from nltk.corpus import stopwords\n",
    "from sklearn.feature_extraction.text import CountVectorizer, TfidfTransformer\n",
    "\n",
    "stopwords = stopwords.words(\"russian\")\n",
    "mystem = pymystem3.Mystem()\n",
    "regexp = RegexpTokenizer('[а-яА-Я_]{2,25}')\n",
    "\n",
    "def method3_0(web_url, count_vect, tfidf_tr, sgd_classifier):\n",
    "    if re.match(\"^(https?:\\/\\/)?([\\da-z\\.-]+)\\.([a-z\\.]{2,6})([\\/\\w \\.-]*)*\\/?$\", web_url):\n",
    "        raw = \" \".join(BeautifulSoup(requests.get(web_url).content, \"lxml\").text.split())\n",
    "        words = []\n",
    "        for b in mystem.lemmatize(\" \".join([a.lower() for a in regexp.tokenize(raw)])):\n",
    "             if b != \" \" and b not in stoplist:\n",
    "                    words.append(b)\n",
    "        \n",
    "        \n",
    "        X_0 = count_vect.transform([\" \".join(words)])\n",
    "        X_test_0 = tfidf_tr.transform(X_0)\n",
    "        \n",
    "        \n",
    "        return sgd_classifier.predict(X_test_0)\n",
    "    else:\n",
    "        print(\"Возможно, вы предоставили неправильную ссылку\")\n",
    "        return None\n"
   ]
  },
  {
   "cell_type": "code",
   "execution_count": 145,
   "metadata": {
    "ExecuteTime": {
     "end_time": "2016-10-22T20:58:57.259144",
     "start_time": "2016-10-22T20:58:57.244495"
    },
    "collapsed": true
   },
   "outputs": [],
   "source": [
    "t = \"\"\"/Наука и образование\n",
    "    /Наука и образование/наука\n",
    "    /Наука и образование/наука/математика\n",
    "    /Наука и образование/наука/физика\n",
    "    /Наука и образование/наука/химия\n",
    "    /Наука и образование/наука/информатика\n",
    "    /Наука и образование/наука/информатика/биоинформатика\n",
    "    /Наука и образование/наука/информатика/анализ данных\n",
    "    /Наука и образование/наука/литература\n",
    "    /Наука и образование/образование\n",
    "    /Наука и образование/образование/школьное\n",
    "    /Наука и образование/образование/высшее\n",
    "    /Наука и образование/образование/дополнительное\n",
    "    /Наука и образование/образование/дополнительное/GoTo\n",
    "    /Политика\n",
    "    /Политика/Внутренняя\n",
    "    /Политика/Внешняя\n",
    "    /Экономика и бизнес\n",
    "    /Экономика и бизнес/Бизнес\n",
    "    /Экономика и бизнес/Бизнес/Стартапы\n",
    "    /Экономика и бизнес/Бизнес/Стартапы/E-Contenta\n",
    "    /Экономика и бизнес/Бизнес/Крупные компании\n",
    "    /Экономика и бизнес/Экономика\n",
    "    /Отдых и развлечения\n",
    "    /Отдых и развлечения/Кино\n",
    "    /Отдых и развлечения/Театр\n",
    "    /Отдых и развлечения/Компьютерные игры\n",
    "    /Здоровье и красота/Фитнес\n",
    "    /Здоровье и красота/Медицина\n",
    "    /Здоровье и красота/Косметология\"\"\".split(\"\\n\")\n",
    "\n",
    "# массив последних тем в иерархии (топики) и словарь, с пом. которого можно восстановить полную структуру\n",
    "topics = [x[1:].split(\"/\")[-1] for x in t]\n",
    "restore = {topics[i]: t[i] for i in range(len(topics))}"
   ]
  },
  {
   "cell_type": "code",
   "execution_count": 158,
   "metadata": {
    "ExecuteTime": {
     "end_time": "2016-10-22T21:02:39.721682",
     "start_time": "2016-10-22T21:02:39.717456"
    },
    "collapsed": false
   },
   "outputs": [],
   "source": [
    "def method3(web_url):\n",
    "    try:\n",
    "        key = method3_0(web_url, count_vect, tfidf_tr, sgd_classifier)[0]\n",
    "        return restore.get(key.lower(), key)\n",
    "    except: pass"
   ]
  },
  {
   "cell_type": "code",
   "execution_count": 159,
   "metadata": {
    "ExecuteTime": {
     "end_time": "2016-10-22T21:02:41.248116",
     "start_time": "2016-10-22T21:02:40.772334"
    },
    "collapsed": false
   },
   "outputs": [
    {
     "data": {
      "text/plain": [
       "'    /Наука и образование/образование'"
      ]
     },
     "execution_count": 159,
     "metadata": {},
     "output_type": "execute_result"
    }
   ],
   "source": [
    "method3(\"https://ru.wikipedia.org/wiki/Определитель_Вандермонда\")"
   ]
  },
  {
   "cell_type": "code",
   "execution_count": 160,
   "metadata": {
    "ExecuteTime": {
     "end_time": "2016-10-22T21:02:42.065258",
     "start_time": "2016-10-22T21:02:41.795742"
    },
    "collapsed": false
   },
   "outputs": [
    {
     "data": {
      "text/plain": [
       "'    /Наука и образование/образование'"
      ]
     },
     "execution_count": 160,
     "metadata": {},
     "output_type": "execute_result"
    }
   ],
   "source": [
    "method3(\"http://goto.msk.ru/hackathon/\")"
   ]
  },
  {
   "cell_type": "code",
   "execution_count": 161,
   "metadata": {
    "ExecuteTime": {
     "end_time": "2016-10-22T21:02:44.558058",
     "start_time": "2016-10-22T21:02:42.549296"
    },
    "collapsed": false
   },
   "outputs": [
    {
     "data": {
      "text/plain": [
       "'Кино'"
      ]
     },
     "execution_count": 161,
     "metadata": {},
     "output_type": "execute_result"
    }
   ],
   "source": [
    "method3(\"https://www.kinopoisk.ru/film/648440/\")"
   ]
  },
  {
   "cell_type": "code",
   "execution_count": 162,
   "metadata": {
    "ExecuteTime": {
     "end_time": "2016-10-22T21:02:46.450978",
     "start_time": "2016-10-22T21:02:45.892354"
    },
    "collapsed": false
   },
   "outputs": [
    {
     "data": {
      "text/plain": [
       "'Компьютеры_и_интернет'"
      ]
     },
     "execution_count": 162,
     "metadata": {},
     "output_type": "execute_result"
    }
   ],
   "source": [
    "method3(\"https://e-contenta.com/ru/\")"
   ]
  },
  {
   "cell_type": "code",
   "execution_count": 163,
   "metadata": {
    "ExecuteTime": {
     "end_time": "2016-10-22T21:02:47.413893",
     "start_time": "2016-10-22T21:02:47.308859"
    },
    "collapsed": false
   },
   "outputs": [
    {
     "name": "stdout",
     "output_type": "stream",
     "text": [
      "Возможно, вы предоставили неправильную ссылку\n"
     ]
    }
   ],
   "source": [
    "method3(\"https://ru.wikipedia.org/wiki/C%2B%2B\")"
   ]
  },
  {
   "cell_type": "code",
   "execution_count": null,
   "metadata": {
    "collapsed": true
   },
   "outputs": [],
   "source": []
  }
 ],
 "metadata": {
  "kernelspec": {
   "display_name": "Python 3",
   "language": "python",
   "name": "python3"
  },
  "language_info": {
   "codemirror_mode": {
    "name": "ipython",
    "version": 3
   },
   "file_extension": ".py",
   "mimetype": "text/x-python",
   "name": "python",
   "nbconvert_exporter": "python",
   "pygments_lexer": "ipython3",
   "version": "3.5.1"
  }
 },
 "nbformat": 4,
 "nbformat_minor": 1
}
